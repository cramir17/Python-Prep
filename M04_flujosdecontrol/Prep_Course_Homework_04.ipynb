{
 "cells": [
  {
   "attachments": {},
   "cell_type": "markdown",
   "metadata": {},
   "source": [
    "## Flujos de Control"
   ]
  },
  {
   "attachments": {},
   "cell_type": "markdown",
   "metadata": {},
   "source": [
    "1) Crear una variable que contenga un elemento del conjunto de números enteros y luego imprimir por pantalla si es mayor o menor a cero"
   ]
  },
  {
   "cell_type": "code",
   "execution_count": 9,
   "metadata": {},
   "outputs": [
    {
     "name": "stdout",
     "output_type": "stream",
     "text": [
      "La variable a si es un entero: 5 <class 'int'>\n"
     ]
    }
   ],
   "source": [
    "a= 5\n",
    "\n",
    "if type(a) == int:\n",
    "    print(f'La variable a si es un entero: {a} ' + str(type(a)))"
   ]
  },
  {
   "attachments": {},
   "cell_type": "markdown",
   "metadata": {},
   "source": [
    "2) Crear dos variables y un condicional que informe si son del mismo tipo de dato"
   ]
  },
  {
   "cell_type": "code",
   "execution_count": 12,
   "metadata": {},
   "outputs": [
    {
     "name": "stdout",
     "output_type": "stream",
     "text": [
      "Las variables son de diferentes tipos de dato\n"
     ]
    }
   ],
   "source": [
    "a=  5\n",
    "b= '5'\n",
    "\n",
    "if (type(a) == type(b)):\n",
    "    print('Las dos variables son del mismo tipo de dato')\n",
    "else:\n",
    "    print('Las variables son de diferentes tipos de dato')"
   ]
  },
  {
   "attachments": {},
   "cell_type": "markdown",
   "metadata": {},
   "source": [
    "3) Para los valores enteros del 1 al 20, imprimir por pantalla si es par o impar"
   ]
  },
  {
   "cell_type": "code",
   "execution_count": 17,
   "metadata": {},
   "outputs": [
    {
     "name": "stdout",
     "output_type": "stream",
     "text": [
      "1 es un número Impar\n",
      "2 es un número Par\n",
      "3 es un número Impar\n",
      "4 es un número Par\n",
      "5 es un número Impar\n",
      "6 es un número Par\n",
      "7 es un número Impar\n",
      "8 es un número Par\n",
      "9 es un número Impar\n",
      "10 es un número Par\n"
     ]
    }
   ],
   "source": [
    "num= 10\n",
    "tipo= []\n",
    "\n",
    "for i in range(1, num+1):\n",
    "    if i % 2 == 0:\n",
    "        tipo= \"Par\"\n",
    "    else:\n",
    "        tipo= 'Impar'\n",
    "    print(str(i) + ' es un número ' + tipo)\n",
    "    i += 1\n",
    "\n"
   ]
  },
  {
   "attachments": {},
   "cell_type": "markdown",
   "metadata": {},
   "source": [
    "4) En un ciclo for mostrar para los valores entre 0 y 5 el resultado de elevarlo a la potencia igual a 3"
   ]
  },
  {
   "cell_type": "code",
   "execution_count": 24,
   "metadata": {},
   "outputs": [
    {
     "name": "stdout",
     "output_type": "stream",
     "text": [
      "0 elevado a la 3 es: 0\n",
      "1 elevado a la 3 es: 1\n",
      "2 elevado a la 3 es: 8\n",
      "3 elevado a la 3 es: 27\n",
      "4 elevado a la 3 es: 64\n",
      "5 elevado a la 3 es: 125\n"
     ]
    }
   ],
   "source": [
    "for i in range(0, 6):\n",
    "    print(str(i), 'elevado a la 3 es:', str(i**3))"
   ]
  },
  {
   "attachments": {},
   "cell_type": "markdown",
   "metadata": {},
   "source": [
    "5) Crear una variable que contenga un número entero y realizar un ciclo for la misma cantidad de ciclos"
   ]
  },
  {
   "cell_type": "code",
   "execution_count": 26,
   "metadata": {},
   "outputs": [
    {
     "name": "stdout",
     "output_type": "stream",
     "text": [
      "6\n",
      "Ciclo:1\n",
      "Ciclo:2\n",
      "Ciclo:3\n",
      "Ciclo:4\n",
      "Ciclo:5\n",
      "Ciclo:6\n"
     ]
    }
   ],
   "source": [
    "num= 6\n",
    "\n",
    "print(num)\n",
    "\n",
    "for i in range(1, num+1):\n",
    "    print(f'Ciclo:{i}')\n",
    "    i +=1"
   ]
  },
  {
   "attachments": {},
   "cell_type": "markdown",
   "metadata": {},
   "source": [
    "6) Utilizar un ciclo while para realizar el factorial de un número guardado en una variable, sólo si la variable contiene un número entero mayor a 0"
   ]
  },
  {
   "cell_type": "code",
   "execution_count": 39,
   "metadata": {},
   "outputs": [
    {
     "name": "stdout",
     "output_type": "stream",
     "text": [
      "El factorial de 2 es 2\n"
     ]
    }
   ],
   "source": [
    "x= 2\n",
    "factorial= 1\n",
    "y= x\n",
    "\n",
    "if type(y) != int:\n",
    "    print('La variable debe ser un entero')\n",
    "if (y<1):\n",
    "    print('La variable debe ser mayor que 0')\n",
    "while (y>1):\n",
    "    factorial = factorial * y\n",
    "    y = y - 1\n",
    "print(f'El factorial de {x} es', str(factorial))   "
   ]
  },
  {
   "attachments": {},
   "cell_type": "markdown",
   "metadata": {},
   "source": [
    "7) Crear un ciclo for dentro de un ciclo while"
   ]
  },
  {
   "cell_type": "code",
   "execution_count": 55,
   "metadata": {},
   "outputs": [
    {
     "name": "stdout",
     "output_type": "stream",
     "text": [
      "Ciclo While 1\n",
      "Ciclo For 1\n",
      "Ciclo While 2\n",
      "Ciclo For 1\n",
      "Ciclo For 2\n",
      "Ciclo While 3\n",
      "Ciclo For 1\n",
      "Ciclo For 2\n",
      "Ciclo For 3\n",
      "Ciclo While 4\n",
      "Ciclo For 1\n",
      "Ciclo For 2\n",
      "Ciclo For 3\n",
      "Ciclo For 4\n"
     ]
    }
   ],
   "source": [
    "x= 1\n",
    "\n",
    "while (x<5):\n",
    "    print('Ciclo While', str(x))\n",
    "    for i in range (1, x+1):\n",
    "        print ('Ciclo For', str(i))\n",
    "    x += 1"
   ]
  },
  {
   "attachments": {},
   "cell_type": "markdown",
   "metadata": {},
   "source": [
    "8) Crear un ciclo while dentro de un ciclo for"
   ]
  },
  {
   "cell_type": "code",
   "execution_count": 8,
   "metadata": {},
   "outputs": [
    {
     "name": "stdout",
     "output_type": "stream",
     "text": [
      "Ciclo For 1\n",
      "Ciclo While 3\n",
      "Ciclo While 2\n",
      "Ciclo While 1\n",
      "Ciclo For 2\n",
      "Ciclo While 3\n",
      "Ciclo While 2\n",
      "Ciclo While 1\n",
      "Ciclo For 3\n",
      "Ciclo While 3\n",
      "Ciclo While 2\n",
      "Ciclo While 1\n"
     ]
    }
   ],
   "source": [
    "x= 3\n",
    "\n",
    "for i in range(1, x+1):\n",
    "    print('Ciclo For', str(i))\n",
    "    \n",
    "    x_temp= x\n",
    "\n",
    "    while (x_temp>0):\n",
    "        print('Ciclo While', str(x_temp))\n",
    "        x_temp -= 1\n",
    "\n",
    "        if (x_temp<=0):\n",
    "            break\n",
    "\n"
   ]
  },
  {
   "attachments": {},
   "cell_type": "markdown",
   "metadata": {},
   "source": [
    "9) Imprimir los números primos existentes entre 0 y 30"
   ]
  },
  {
   "cell_type": "code",
   "execution_count": 16,
   "metadata": {},
   "outputs": [
    {
     "name": "stdout",
     "output_type": "stream",
     "text": [
      "0\n",
      "1\n",
      "2\n",
      "3\n",
      "5\n",
      "7\n",
      "11\n",
      "13\n",
      "17\n",
      "19\n",
      "23\n",
      "29\n"
     ]
    }
   ],
   "source": [
    "tope_rango= 30\n",
    "n= 0\n",
    "primo= True\n",
    "\n",
    "while (n < tope_rango):\n",
    "    for div in range(2, n):\n",
    "        if (n % div == 0):\n",
    "            primo = False\n",
    "    if (primo):\n",
    "        print(n)\n",
    "    else:\n",
    "        primo = True\n",
    "    n += 1"
   ]
  },
  {
   "attachments": {},
   "cell_type": "markdown",
   "metadata": {},
   "source": [
    "10) ¿Se puede mejorar el proceso del punto 9? Utilizar las sentencias break y/ó continue para tal fin"
   ]
  },
  {
   "cell_type": "code",
   "execution_count": null,
   "metadata": {},
   "outputs": [],
   "source": []
  },
  {
   "attachments": {},
   "cell_type": "markdown",
   "metadata": {},
   "source": [
    "11) En los puntos 9 y 10, se diseño un código que encuentra números primos y además se lo optimizó. ¿Es posible saber en qué medida se optimizó?"
   ]
  },
  {
   "cell_type": "code",
   "execution_count": null,
   "metadata": {},
   "outputs": [],
   "source": []
  },
  {
   "attachments": {},
   "cell_type": "markdown",
   "metadata": {},
   "source": [
    "12) Aplicando continue, armar un ciclo while que solo imprima los valores divisibles por 12, dentro del rango de números de 100 a 300"
   ]
  },
  {
   "cell_type": "code",
   "execution_count": null,
   "metadata": {},
   "outputs": [],
   "source": []
  },
  {
   "attachments": {},
   "cell_type": "markdown",
   "metadata": {},
   "source": [
    "13) Utilizar la función **input()** que permite hacer ingresos por teclado, para encontrar números primos y dar la opción al usario de buscar el siguiente"
   ]
  },
  {
   "cell_type": "code",
   "execution_count": null,
   "metadata": {},
   "outputs": [],
   "source": []
  },
  {
   "attachments": {},
   "cell_type": "markdown",
   "metadata": {},
   "source": [
    "14) Crear un ciclo while que encuentre dentro del rango de 100 a 300 el primer número divisible por 3 y además múltiplo de 6"
   ]
  },
  {
   "cell_type": "code",
   "execution_count": null,
   "metadata": {},
   "outputs": [],
   "source": []
  }
 ],
 "metadata": {
  "interpreter": {
   "hash": "c85384e4cb51c8b72350f3a8712cc8351fdc3955e32a27f9b60c6242ab125f01"
  },
  "kernelspec": {
   "display_name": "Python 3 (ipykernel)",
   "language": "python",
   "name": "python3"
  },
  "language_info": {
   "codemirror_mode": {
    "name": "ipython",
    "version": 3
   },
   "file_extension": ".py",
   "mimetype": "text/x-python",
   "name": "python",
   "nbconvert_exporter": "python",
   "pygments_lexer": "ipython3",
   "version": "3.11.3"
  }
 },
 "nbformat": 4,
 "nbformat_minor": 4
}
