{
 "cells": [
  {
   "cell_type": "code",
   "execution_count": 18,
   "metadata": {},
   "outputs": [],
   "source": [
    "def ClaseAnimal(especie, color):\n",
    "    '''\n",
    "    Esta función devuelve un objeto instanciado de la clase Animal, \n",
    "    la cual debe tener los siguientes atributos:\n",
    "        Edad    (Un valor de tipo de dato entero, que debe inicializarse en cero)\n",
    "        Especie (Un valor de tipo de dato string)\n",
    "        Color   (Un valor de tipo de dato string)\n",
    "    y debe tener el siguiente método:\n",
    "        CumplirAnios  (este método debe sumar uno al atributo Edad y debe devolver ese valor)\n",
    "    Recibe dos argumento:\n",
    "        especie: Dato que se asignará al atributo Especie del objeto de la clase Animal\n",
    "        color: Dato que se asignará al atributo Color del objeto de la clase Animal\n",
    "    Ej:\n",
    "        a = ClaseAnimal('perro','blanco')\n",
    "        a.CumplirAnios() -> debe devolver 1\n",
    "        a.CumplirAnios() -> debe devolver 2\n",
    "        a.CumplirAnios() -> debe devolver 3\n",
    "    '''\n",
    "    #Tu código aca:\n",
    "\n",
    "    class Animal:\n",
    "        def __init__(self, especie, color):\n",
    "            self.edad = 0\n",
    "            self.especie = especie\n",
    "            self.color = color\n",
    "\n",
    "        def CumplirAnios(self):\n",
    "            self.edad += 1   # self.edad = self.edad + 1\n",
    "            return self.edad \n",
    "\n",
    "\n",
    "    return Animal (especie, color)\n"
   ]
  },
  {
   "cell_type": "code",
   "execution_count": 19,
   "metadata": {},
   "outputs": [],
   "source": [
    "a = ClaseAnimal('perro','negro')\n",
    "valor_test = a.CumplirAnios()\n",
    "valor_test = a.CumplirAnios()\n",
    "valor_test = a.CumplirAnios()"
   ]
  },
  {
   "cell_type": "code",
   "execution_count": 22,
   "metadata": {},
   "outputs": [
    {
     "data": {
      "text/plain": [
       "<__main__.ClaseAnimal.<locals>.Animal at 0x2bc72dfa190>"
      ]
     },
     "execution_count": 22,
     "metadata": {},
     "output_type": "execute_result"
    }
   ],
   "source": [
    "ClaseAnimal('gato', 'blanco')"
   ]
  }
 ],
 "metadata": {
  "kernelspec": {
   "display_name": "Python 3",
   "language": "python",
   "name": "python3"
  },
  "language_info": {
   "codemirror_mode": {
    "name": "ipython",
    "version": 3
   },
   "file_extension": ".py",
   "mimetype": "text/x-python",
   "name": "python",
   "nbconvert_exporter": "python",
   "pygments_lexer": "ipython3",
   "version": "3.11.3"
  },
  "orig_nbformat": 4
 },
 "nbformat": 4,
 "nbformat_minor": 2
}
